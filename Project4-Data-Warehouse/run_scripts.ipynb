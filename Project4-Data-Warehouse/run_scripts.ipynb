{
 "cells": [
  {
   "cell_type": "markdown",
   "metadata": {
    "editable": true
   },
   "source": [
    "### Note\n",
    "run_scripts notebook created for the purpose of running the python scipts in terminal"
   ]
  },
  {
   "cell_type": "code",
   "execution_count": 22,
   "metadata": {
    "editable": true
   },
   "outputs": [],
   "source": [
    "!python create_tables.py"
   ]
  },
  {
   "cell_type": "code",
   "execution_count": 23,
   "metadata": {
    "editable": true
   },
   "outputs": [
    {
     "name": "stdout",
     "output_type": "stream",
     "text": [
      "Traceback (most recent call last):\n",
      "  File \"etl.py\", line 45, in <module>\n",
      "    main()\n",
      "  File \"etl.py\", line 39, in main\n",
      "    insert_tables(cur, conn)\n",
      "  File \"etl.py\", line 20, in insert_tables\n",
      "    cur.execute(query)\n",
      "psycopg2.InternalError: value for \"YYYY\" in source string is out of range\n",
      "\n"
     ]
    }
   ],
   "source": [
    "!python etl.py"
   ]
  }
 ],
 "metadata": {
  "kernelspec": {
   "display_name": "Python 3",
   "language": "python",
   "name": "python3"
  },
  "language_info": {
   "codemirror_mode": {
    "name": "ipython",
    "version": 3
   },
   "file_extension": ".py",
   "mimetype": "text/x-python",
   "name": "python",
   "nbconvert_exporter": "python",
   "pygments_lexer": "ipython3",
   "version": "3.6.3"
  }
 },
 "nbformat": 4,
 "nbformat_minor": 4
}
